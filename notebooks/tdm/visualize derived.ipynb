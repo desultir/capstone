{
 "cells": [
  {
   "cell_type": "code",
   "execution_count": 2,
   "metadata": {},
   "outputs": [],
   "source": [
    "from nltk.tokenize.casual import casual_tokenize\n",
    "from sklearn.feature_extraction.text import TfidfVectorizer\n",
    "import numpy as np\n",
    "import re\n",
    "import pandas as pd\n",
    "import string\n",
    "import os\n",
    "base = \"../../data/clean/\"\n",
    "pd.set_option('display.max_rows', 150)"
   ]
  },
  {
   "cell_type": "code",
   "execution_count": 87,
   "metadata": {},
   "outputs": [
    {
     "data": {
      "text/html": [
       "<div>\n",
       "<style scoped>\n",
       "    .dataframe tbody tr th:only-of-type {\n",
       "        vertical-align: middle;\n",
       "    }\n",
       "\n",
       "    .dataframe tbody tr th {\n",
       "        vertical-align: top;\n",
       "    }\n",
       "\n",
       "    .dataframe thead th {\n",
       "        text-align: right;\n",
       "    }\n",
       "</style>\n",
       "<table border=\"1\" class=\"dataframe\">\n",
       "  <thead>\n",
       "    <tr style=\"text-align: right;\">\n",
       "      <th></th>\n",
       "      <th>lga</th>\n",
       "      <th>instagrammers_ratio</th>\n",
       "      <th>replyers_per_capita</th>\n",
       "      <th>total_tweeters</th>\n",
       "      <th>link_tweets_ratio</th>\n",
       "      <th>Polr_Neg_A_pcapita</th>\n",
       "      <th>Polr_Neg_N_pcapita</th>\n",
       "      <th>Polr_Neg_E_pcapita</th>\n",
       "      <th>Polr_Neg_M_pcapita</th>\n",
       "      <th>Night_pcapita</th>\n",
       "      <th>Morning_pcapita</th>\n",
       "      <th>Afternoon_pcapita</th>\n",
       "      <th>Evening_pcapita</th>\n",
       "      <th>Prof_exists_pcapita</th>\n",
       "      <th>tr_tweeters</th>\n",
       "      <th>ja_tweeters</th>\n",
       "      <th>in_tweeters</th>\n",
       "      <th>tl_tweeters</th>\n",
       "    </tr>\n",
       "  </thead>\n",
       "  <tbody>\n",
       "    <tr>\n",
       "      <th>2</th>\n",
       "      <td>Albury</td>\n",
       "      <td>0.339355</td>\n",
       "      <td>0.006304</td>\n",
       "      <td>775</td>\n",
       "      <td>0.316016</td>\n",
       "      <td>-0.002669</td>\n",
       "      <td>-0.007370</td>\n",
       "      <td>-0.004476</td>\n",
       "      <td>-0.008072</td>\n",
       "      <td>0.128044</td>\n",
       "      <td>0.152263</td>\n",
       "      <td>0.045873</td>\n",
       "      <td>0.083836</td>\n",
       "      <td>0.024101</td>\n",
       "      <td>4</td>\n",
       "      <td>3</td>\n",
       "      <td>26</td>\n",
       "      <td>29</td>\n",
       "    </tr>\n",
       "    <tr>\n",
       "      <th>108</th>\n",
       "      <td>Armidale Regional</td>\n",
       "      <td>0.375817</td>\n",
       "      <td>0.003362</td>\n",
       "      <td>306</td>\n",
       "      <td>0.514424</td>\n",
       "      <td>-0.001420</td>\n",
       "      <td>-0.001944</td>\n",
       "      <td>-0.001170</td>\n",
       "      <td>-0.004177</td>\n",
       "      <td>0.062039</td>\n",
       "      <td>0.079527</td>\n",
       "      <td>0.025773</td>\n",
       "      <td>0.036300</td>\n",
       "      <td>0.004584</td>\n",
       "      <td>0</td>\n",
       "      <td>1</td>\n",
       "      <td>5</td>\n",
       "      <td>5</td>\n",
       "    </tr>\n",
       "    <tr>\n",
       "      <th>99</th>\n",
       "      <td>Ballina</td>\n",
       "      <td>0.594556</td>\n",
       "      <td>0.003853</td>\n",
       "      <td>698</td>\n",
       "      <td>0.550613</td>\n",
       "      <td>-0.000477</td>\n",
       "      <td>-0.001150</td>\n",
       "      <td>-0.000811</td>\n",
       "      <td>-0.001753</td>\n",
       "      <td>0.040608</td>\n",
       "      <td>0.051400</td>\n",
       "      <td>0.010625</td>\n",
       "      <td>0.028093</td>\n",
       "      <td>0.002560</td>\n",
       "      <td>0</td>\n",
       "      <td>4</td>\n",
       "      <td>10</td>\n",
       "      <td>10</td>\n",
       "    </tr>\n",
       "    <tr>\n",
       "      <th>56</th>\n",
       "      <td>Bathurst Regional</td>\n",
       "      <td>0.476974</td>\n",
       "      <td>0.004383</td>\n",
       "      <td>608</td>\n",
       "      <td>0.444390</td>\n",
       "      <td>-0.000543</td>\n",
       "      <td>-0.002403</td>\n",
       "      <td>-0.001372</td>\n",
       "      <td>-0.004298</td>\n",
       "      <td>0.047240</td>\n",
       "      <td>0.063051</td>\n",
       "      <td>0.010242</td>\n",
       "      <td>0.028814</td>\n",
       "      <td>0.007676</td>\n",
       "      <td>0</td>\n",
       "      <td>1</td>\n",
       "      <td>4</td>\n",
       "      <td>7</td>\n",
       "    </tr>\n",
       "    <tr>\n",
       "      <th>85</th>\n",
       "      <td>Bayside</td>\n",
       "      <td>0.042857</td>\n",
       "      <td>0.001538</td>\n",
       "      <td>770</td>\n",
       "      <td>0.265229</td>\n",
       "      <td>-0.000143</td>\n",
       "      <td>-0.000496</td>\n",
       "      <td>-0.000353</td>\n",
       "      <td>-0.000652</td>\n",
       "      <td>0.009817</td>\n",
       "      <td>0.012848</td>\n",
       "      <td>0.001890</td>\n",
       "      <td>0.007529</td>\n",
       "      <td>0.001057</td>\n",
       "      <td>1</td>\n",
       "      <td>6</td>\n",
       "      <td>10</td>\n",
       "      <td>14</td>\n",
       "    </tr>\n",
       "  </tbody>\n",
       "</table>\n",
       "</div>"
      ],
      "text/plain": [
       "                   lga  instagrammers_ratio  replyers_per_capita  \\\n",
       "2               Albury             0.339355             0.006304   \n",
       "108  Armidale Regional             0.375817             0.003362   \n",
       "99             Ballina             0.594556             0.003853   \n",
       "56   Bathurst Regional             0.476974             0.004383   \n",
       "85             Bayside             0.042857             0.001538   \n",
       "\n",
       "     total_tweeters  link_tweets_ratio  Polr_Neg_A_pcapita  \\\n",
       "2               775           0.316016           -0.002669   \n",
       "108             306           0.514424           -0.001420   \n",
       "99              698           0.550613           -0.000477   \n",
       "56              608           0.444390           -0.000543   \n",
       "85              770           0.265229           -0.000143   \n",
       "\n",
       "     Polr_Neg_N_pcapita  Polr_Neg_E_pcapita  Polr_Neg_M_pcapita  \\\n",
       "2             -0.007370           -0.004476           -0.008072   \n",
       "108           -0.001944           -0.001170           -0.004177   \n",
       "99            -0.001150           -0.000811           -0.001753   \n",
       "56            -0.002403           -0.001372           -0.004298   \n",
       "85            -0.000496           -0.000353           -0.000652   \n",
       "\n",
       "     Night_pcapita  Morning_pcapita  Afternoon_pcapita  Evening_pcapita  \\\n",
       "2         0.128044         0.152263           0.045873         0.083836   \n",
       "108       0.062039         0.079527           0.025773         0.036300   \n",
       "99        0.040608         0.051400           0.010625         0.028093   \n",
       "56        0.047240         0.063051           0.010242         0.028814   \n",
       "85        0.009817         0.012848           0.001890         0.007529   \n",
       "\n",
       "     Prof_exists_pcapita  tr_tweeters  ja_tweeters  in_tweeters  tl_tweeters  \n",
       "2               0.024101            4            3           26           29  \n",
       "108             0.004584            0            1            5            5  \n",
       "99              0.002560            0            4           10           10  \n",
       "56              0.007676            0            1            4            7  \n",
       "85              0.001057            1            6           10           14  "
      ]
     },
     "execution_count": 87,
     "metadata": {},
     "output_type": "execute_result"
    }
   ],
   "source": [
    "tweetdf = pd.read_csv(base+'twitter_17_features.csv')\n",
    "tweetdf = tweetdf.sort_values(by='lga')\n",
    "tweetdf.head()"
   ]
  },
  {
   "cell_type": "code",
   "execution_count": 16,
   "metadata": {},
   "outputs": [],
   "source": [
    "import sys\n",
    "sys.path.append(\"../..\")\n",
    "from src.data import utils\n",
    "\n",
    "target = utils.load_target()"
   ]
  },
  {
   "cell_type": "code",
   "execution_count": 88,
   "metadata": {},
   "outputs": [],
   "source": [
    "tweetdf = tweetdf.set_index(\"lga\")"
   ]
  },
  {
   "cell_type": "code",
   "execution_count": 82,
   "metadata": {},
   "outputs": [],
   "source": [
    "import shapefile\n",
    "from shapely.geometry import shape, Point, mapping\n",
    "import numpy as np\n",
    "import pandas as pd\n",
    "\n",
    "raw = \"../../data/raw/\"\n",
    "clean = \"../../data/processed/\"\n",
    "filename = \"2016_LGA_SHAPE/LGA_2016_AUST\"\n",
    "\n",
    "sf = shapefile.Reader(raw+filename)\n",
    "\n",
    "nswshapes = list(map(lambda x: shape(x.__geo_interface__), sf.shapes()[:130]))\n",
    "centroids = list(map(lambda x: shape(x.__geo_interface__).centroid, sf.shapes()[:130]))\n",
    "df = pd.DataFrame(sf.records())\n",
    "nswdf = df[df[4] ==\"New South Wales\"]\n",
    "# drop \"No usual address\" - not a useful LGA\n",
    "nswdf = nswdf[nswdf[0] != \"LGA19499\"]\n",
    "nswdf.columns = [\"code\", \"codenum\", \"name\", \"unknown\", \"state\", \"unknown2\"]\n",
    "nswdf[\"clean_name\"] = nswdf[\"name\"].str.extract('([^\\\\(]*)', expand=False).str.strip()\n"
   ]
  },
  {
   "cell_type": "code",
   "execution_count": 60,
   "metadata": {},
   "outputs": [],
   "source": [
    "#amalgamations on shpfile\n",
    "amalgamations = {\"Botany Bay\":\"Bayside\",\n",
    "                 \"Rockdale\":\"Bayside\",\n",
    "                 \"Greater Hume Shire\": \"Greater Hume\",\n",
    "                 \"Gundagai\": 'Cootamundra-Gundagai',\n",
    "                 'Western Plains Regional': \"Dubbo Regional\",\n",
    "                 'Unincorporated NSW': 'Unincorporated Far West',\n",
    "                 \n",
    "                }\n",
    "\n",
    "for x in amalgamations.keys():\n",
    "    nswdf.loc[nswdf[\"clean_name\"] == x, \"clean_name\"] =  amalgamations[x]"
   ]
  },
  {
   "cell_type": "code",
   "execution_count": 37,
   "metadata": {},
   "outputs": [],
   "source": [
    "import json\n",
    "lga_json = list(map(lambda x: x.__geo_interface__, sf.shapes()[:130]))\n",
    "\n",
    "geojson = {'type': 'FeatureCollection',\n",
    "            'features': [{'type':'Feature', 'geometry':x, 'properties': {'name':nswdf.iloc[i]['clean_name']}} for i, x in enumerate(lga_json)]\n",
    "          }\n",
    "\n",
    "#with open('geojson.json','w') as f:\n",
    "#    json.dump(geojson, f)"
   ]
  },
  {
   "cell_type": "code",
   "execution_count": 7,
   "metadata": {},
   "outputs": [],
   "source": [
    "aggdfs = []\n",
    "cols = ['tr_tweeters','ja_tweeters','in_tweeters','tl_tweeters']\n"
   ]
  },
  {
   "cell_type": "code",
   "execution_count": 89,
   "metadata": {},
   "outputs": [],
   "source": [
    "joindf = nswdf.merge(tweetdf, left_on=\"clean_name\", right_index=True, how=\"outer\").fillna(0)\n",
    "tweetdf= joindf.set_index(\"clean_name\")"
   ]
  },
  {
   "cell_type": "code",
   "execution_count": 10,
   "metadata": {},
   "outputs": [],
   "source": [
    "def colorshp(col, cmax, cmin):\n",
    "    portion = (col-cmin)\n",
    "    if portion > 0:\n",
    "        portion = np.log(portion)\n",
    "    point = portion/np.log((cmax - cmin))\n",
    "    #print(point)\n",
    "    strength = int(point * 255)\n",
    "    alpha = point\n",
    "    return 'rgba({0},0,0,{1:.2f})'.format(strength,alpha)"
   ]
  },
  {
   "cell_type": "code",
   "execution_count": 76,
   "metadata": {},
   "outputs": [],
   "source": [
    "="
   ]
  },
  {
   "cell_type": "code",
   "execution_count": null,
   "metadata": {},
   "outputs": [
    {
     "name": "stderr",
     "output_type": "stream",
     "text": [
      " * Running on http://127.0.0.1:8012/ (Press CTRL+C to quit)\n",
      "127.0.0.1 - - [30/May/2018 16:03:09] \"GET / HTTP/1.1\" 200 -\n",
      "127.0.0.1 - - [30/May/2018 16:03:10] \"GET /_dash-layout HTTP/1.1\" 200 -\n",
      "127.0.0.1 - - [30/May/2018 16:03:10] \"GET /_dash-dependencies HTTP/1.1\" 200 -\n"
     ]
    },
    {
     "name": "stdout",
     "output_type": "stream",
     "text": [
      "0\n"
     ]
    },
    {
     "name": "stderr",
     "output_type": "stream",
     "text": [
      "127.0.0.1 - - [30/May/2018 16:03:13] \"GET /favicon.ico HTTP/1.1\" 200 -\n",
      "127.0.0.1 - - [30/May/2018 16:03:14] \"POST /_dash-update-component HTTP/1.1\" 200 -\n"
     ]
    },
    {
     "name": "stdout",
     "output_type": "stream",
     "text": [
      "1\n"
     ]
    },
    {
     "name": "stderr",
     "output_type": "stream",
     "text": [
      "127.0.0.1 - - [30/May/2018 16:06:31] \"POST /_dash-update-component HTTP/1.1\" 200 -\n"
     ]
    },
    {
     "name": "stdout",
     "output_type": "stream",
     "text": [
      "3\n"
     ]
    },
    {
     "name": "stderr",
     "output_type": "stream",
     "text": [
      "127.0.0.1 - - [30/May/2018 16:07:17] \"POST /_dash-update-component HTTP/1.1\" 200 -\n"
     ]
    }
   ],
   "source": [
    "import dash\n",
    "import dash_core_components as dcc\n",
    "import dash_html_components as html\n",
    "import plotly.graph_objs as go\n",
    "from plotly.graph_objs import *\n",
    "\n",
    "app = dash.Dash()\n",
    "os.environ['WERKZEUG_RUN_MAIN'] = 'true'\n",
    "\n",
    "data = []\n",
    "for i, tok in enumerate(cols):\n",
    "    #lga boundaries\n",
    "    lga_layers = list(map(lambda x: { \n",
    "                    'sourcetype' : \"geojson\",\n",
    "                    'source': x,\n",
    "                    'type'   : 'fill',\n",
    "                    'color': colorshp(tweetdf.loc[x[\"properties\"][\"name\"]][tok], tweetdf[tok].max(),0),\n",
    "                    }, geojson['features']))\n",
    "\n",
    "    #lga labels\n",
    "    labels = dict(type='scattermapbox',\n",
    "                lon=[x.x for x in centroids],\n",
    "                lat=[x.y for x in centroids],\n",
    "                mode='text',\n",
    "                text=list(nswdf.clean_name),\n",
    "                hoverinfo = 'none',\n",
    "                 )\n",
    "    #counts for hover\n",
    "    counts = dict(type='scattermapbox',\n",
    "                lon=[x.x for x in centroids],\n",
    "                lat=[x.y for x in centroids],\n",
    "                mode='none',\n",
    "                text = tweetdf[tok].loc[list(nswdf.clean_name)],\n",
    "                hoverinfo = 'text',\n",
    "                 )\n",
    "    data.append({\n",
    "            \"data\": [labels, counts],\n",
    "            \"layout\": go.Layout(\n",
    "                hovermode = \"closest\",\n",
    "                margin = dict(l = 0, r = 0, t = 0, b = 0),\n",
    "                mapbox = dict(\n",
    "                    layers = lga_layers,\n",
    "                    accesstoken = \"pk.eyJ1IjoiZGVzdWx0aXIiLCJhIjoiY2pmZDN4M2FlMTEzYjJ3bWlyc2VhaDkxaiJ9.VvezwDLTQlh2GVAEsauwlg\",\n",
    "                    bearing = 0,\n",
    "                    center = dict(lat=-32.662833, lon=147.031917),\n",
    "                    style = \"light\",\n",
    "                    pitch = 0,\n",
    "                    zoom = 5.5,\n",
    "                )\n",
    "            )\n",
    "        })\n",
    "    \n",
    "app.layout = html.Div(children=[\n",
    "    html.H4(children='Tweeters by LGA'),\n",
    "    dcc.Slider(\n",
    "        id='slider',\n",
    "        min=0,\n",
    "        max=len(cols),\n",
    "        step=1,\n",
    "        value=0,\n",
    "        marks={i:cols[i] for i in range(len(cols))},\n",
    "    ),\n",
    "    html.Br(),\n",
    "    dcc.Graph(\n",
    "        id = \"mapbox\",\n",
    "        #animate=True,\n",
    "        style = {\"height\": 750}\n",
    "    )])\n",
    "\n",
    "@app.callback(\n",
    "    dash.dependencies.Output('mapbox', 'figure'),\n",
    "    [dash.dependencies.Input('slider', 'value')])\n",
    "def update_graph(value):\n",
    "    print(value)\n",
    "    return {\n",
    "        'data': data[value]['data'],\n",
    "        'layout': data[value]['layout']\n",
    "    }\n",
    "\n",
    "app.run_server(debug=False, port=8012)"
   ]
  },
  {
   "cell_type": "code",
   "execution_count": 11,
   "metadata": {},
   "outputs": [],
   "source": [
    "#\n"
   ]
  },
  {
   "cell_type": "code",
   "execution_count": null,
   "metadata": {},
   "outputs": [],
   "source": []
  }
 ],
 "metadata": {
  "kernelspec": {
   "display_name": "Python 3",
   "language": "python",
   "name": "python3"
  },
  "language_info": {
   "codemirror_mode": {
    "name": "ipython",
    "version": 3
   },
   "file_extension": ".py",
   "mimetype": "text/x-python",
   "name": "python",
   "nbconvert_exporter": "python",
   "pygments_lexer": "ipython3",
   "version": "3.6.5"
  }
 },
 "nbformat": 4,
 "nbformat_minor": 2
}
