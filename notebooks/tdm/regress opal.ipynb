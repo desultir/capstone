{
 "cells": [
  {
   "cell_type": "code",
   "execution_count": 1,
   "metadata": {},
   "outputs": [
    {
     "data": {
      "text/plain": [
       "Index(['Year', 'Type', 'LGA', 'Assault - domestic violence',\n",
       "       'Assault - non-domestic violence', 'Sexual Offences', 'Robbery',\n",
       "       'Break and enter dwelling', 'Break and enter non-dwelling',\n",
       "       'Motor vehicle theft', 'Steal from motor vehicle',\n",
       "       'Steal from retail store', 'Steal from dwelling', 'Steal from person',\n",
       "       'Fraud', 'Malicious damage to property', 'Harassment threatening',\n",
       "       'Receiving stolen goods', 'Other theft', 'Arson',\n",
       "       'Possession use of cannabis', 'Prohibited weapons offences', 'Trespass',\n",
       "       'Offensive conduct', 'Offensive language', 'Liquor offences',\n",
       "       'Breach AVO', 'Breach bail conditions', 'Resist or hinder officer',\n",
       "       'Transport regulatory offences'],\n",
       "      dtype='object')"
      ]
     },
     "execution_count": 1,
     "metadata": {},
     "output_type": "execute_result"
    }
   ],
   "source": [
    "import pandas as pd\n",
    "import numpy as np\n",
    "base = \"../../data/\"\n",
    "target = pd.read_csv(base+\"processed/cleaned_target.csv\")\n",
    "target.columns"
   ]
  },
  {
   "cell_type": "code",
   "execution_count": 2,
   "metadata": {},
   "outputs": [
    {
     "data": {
      "text/plain": [
       "array(['Total', 'Rate per 100,000 population', 'Rank'], dtype=object)"
      ]
     },
     "execution_count": 2,
     "metadata": {},
     "output_type": "execute_result"
    }
   ],
   "source": [
    "target[\"Type\"].unique()"
   ]
  },
  {
   "cell_type": "code",
   "execution_count": 3,
   "metadata": {},
   "outputs": [],
   "source": [
    "nswdf_target = target[target[\"Type\"]=='Rate per 100,000 population'].dropna()"
   ]
  },
  {
   "cell_type": "code",
   "execution_count": 4,
   "metadata": {},
   "outputs": [
    {
     "name": "stderr",
     "output_type": "stream",
     "text": [
      "/Users/tdm/git/capstone/venv/lib/python3.6/site-packages/IPython/core/interactiveshell.py:2728: DtypeWarning: Columns (6) have mixed types. Specify dtype option on import or set low_memory=False.\n",
      "  interactivity=interactivity, compiler=compiler, result=result)\n"
     ]
    }
   ],
   "source": [
    "opal_df = pd.read_csv(base+\"processed/opal_lgas.csv\")\n",
    "opal_lgas = opal_df[\"lga\"].unique()"
   ]
  },
  {
   "cell_type": "code",
   "execution_count": 5,
   "metadata": {},
   "outputs": [],
   "source": [
    "import datetime\n",
    "opal_df[\"dayofweek\"] = opal_df[\"date\"].apply(lambda x: datetime.datetime.strptime(str(x), \"%Y%M%d\").weekday())"
   ]
  },
  {
   "cell_type": "code",
   "execution_count": 6,
   "metadata": {},
   "outputs": [
    {
     "data": {
      "text/plain": [
       "set()"
      ]
     },
     "execution_count": 6,
     "metadata": {},
     "output_type": "execute_result"
    }
   ],
   "source": [
    "set(opal_lgas).difference(set(nswdf_target[\"LGA\"].unique()))"
   ]
  },
  {
   "cell_type": "code",
   "execution_count": 7,
   "metadata": {},
   "outputs": [],
   "source": [
    "# log it\n",
    "start_col = nswdf_target.columns.get_loc('Assault - domestic violence')\n",
    "for i in range(27):\n",
    "    nswdf_target = nswdf_target.replace(0.0, 0.01)\n",
    "    nswdf_target.iloc[:,start_col+i] = np.log(nswdf_target.iloc[:,start_col+i])\n",
    "    \n",
    "#print(nswdf_target[\"pop_class\"])\n",
    "#nswdf_target[\"pop_class\"].hist()\n",
    "\n",
    "nswdf_target = nswdf_target[(nswdf_target[\"LGA\"].isin(opal_lgas)) & (nswdf_target[\"Year\"] == 2016)]"
   ]
  },
  {
   "cell_type": "code",
   "execution_count": 8,
   "metadata": {},
   "outputs": [
    {
     "data": {
      "text/plain": [
       "Index(['Year', 'Type', 'LGA', 'Assault - domestic violence',\n",
       "       'Assault - non-domestic violence', 'Sexual Offences', 'Robbery',\n",
       "       'Break and enter dwelling', 'Break and enter non-dwelling',\n",
       "       'Motor vehicle theft', 'Steal from motor vehicle',\n",
       "       'Steal from retail store', 'Steal from dwelling', 'Steal from person',\n",
       "       'Fraud', 'Malicious damage to property', 'Harassment threatening',\n",
       "       'Receiving stolen goods', 'Other theft', 'Arson',\n",
       "       'Possession use of cannabis', 'Prohibited weapons offences', 'Trespass',\n",
       "       'Offensive conduct', 'Offensive language', 'Liquor offences',\n",
       "       'Breach AVO', 'Breach bail conditions', 'Resist or hinder officer',\n",
       "       'Transport regulatory offences'],\n",
       "      dtype='object')"
      ]
     },
     "execution_count": 8,
     "metadata": {},
     "output_type": "execute_result"
    }
   ],
   "source": [
    "nswdf_target.columns"
   ]
  },
  {
   "cell_type": "code",
   "execution_count": 9,
   "metadata": {},
   "outputs": [],
   "source": [
    "outdfs = []\n",
    "for weekday in range(7):\n",
    "    for tod in (\"night\", \"morning\", \"afternoon\", \"evening\"):\n",
    "        for tap in (\"on\",\"off\"):\n",
    "            aggdf = opal_df[(opal_df[\"dayofweek\"]==weekday) & (opal_df[tod]==1) & (opal_df[\"tap\"]==tap)].groupby([\"lga\"]).sum()[[\"count\"]]\n",
    "            aggdf = aggdf.rename(columns={\"count\": \"{0},{1},{2}\".format(weekday,tod,tap)})\n",
    "            outdfs.append(aggdf)"
   ]
  },
  {
   "cell_type": "code",
   "execution_count": 10,
   "metadata": {},
   "outputs": [],
   "source": [
    "featuredf = outdfs[0]\n",
    "for df in outdfs[1:]:\n",
    "    featuredf = featuredf.join(df, how=\"outer\")\n",
    "featuredf = featuredf.fillna(0)"
   ]
  },
  {
   "cell_type": "code",
   "execution_count": 52,
   "metadata": {},
   "outputs": [
    {
     "data": {
      "image/png": "[encoded data removed]",
      "text/plain": [
       "<Figure size 432x288 with 1 Axes>"
      ]
     },
     "metadata": {},
     "output_type": "display_data"
    },
    {
     "data": {
      "text/plain": [
       "([0.4870709949980309,\n",
       "  0.47720565550199295,\n",
       "  0.4691039411472949,\n",
       "  0.32708294455147474,\n",
       "  0.6957366441268101,\n",
       "  0.5005404593752144],\n",
       " [0.33467701055898436,\n",
       "  -0.09074630030627384,\n",
       "  -0.07561094682468394,\n",
       "  0.4499236103514007,\n",
       "  0.2153034795040244,\n",
       "  0.2579808876424158])"
      ]
     },
     "execution_count": 52,
     "metadata": {},
     "output_type": "execute_result"
    }
   ],
   "source": [
    "from sklearn.model_selection import KFold\n",
    "from sklearn.metrics import mean_squared_error\n",
    "from sklearn.ensemble import RandomForestRegressor\n",
    "from scipy.stats import probplot\n",
    "from sklearn.metrics import r2_score\n",
    "from matplotlib import pyplot as plt\n",
    "\n",
    "def kfold_cv(k, crimenum, dataframe, target):\n",
    "    lga_names = target[\"LGA\"].unique()\n",
    "    start_col = target.columns.get_loc('Assault - domestic violence')\n",
    "    kf = KFold(n_splits=5, shuffle=True)\n",
    "    models = []\n",
    "    rmse = []\n",
    "    r2 = []\n",
    "    allpreds = target.iloc[0:0]\n",
    "    allpreds[\"preds\"] = pd.Series()\n",
    "    output = pd.DataFrame(index=range(len(dataframe)))\n",
    "    for train_index, test_index in kf.split(lga_names):\n",
    "        train_lgas = lga_names[train_index]\n",
    "        traindf = dataframe.loc[train_lgas]\n",
    "        train_target = target.loc[target[\"LGA\"].isin(train_lgas)]\n",
    "        \n",
    "        test_lgas = lga_names[test_index]\n",
    "        testdf = dataframe.loc[test_lgas]\n",
    "        test_target = target.loc[target[\"LGA\"].isin(test_lgas)].copy()\n",
    "        #import pdb; pdb.set_trace()\n",
    "        model = RandomForestRegressor()\n",
    "        model.fit(traindf, train_target.iloc[:,start_col+crimenum])\n",
    "        models.append(model)\n",
    "        #print(lga_loc)\n",
    "        preds = model.predict(testdf)\n",
    "        test_target[\"preds\"] = preds\n",
    "        #import pdb; pdb.set_trace()\n",
    "        allpreds = pd.concat([allpreds, test_target])\n",
    "        #is this a fair measure\n",
    "        rmse.append(np.sqrt(mean_squared_error(preds, test_target.iloc[:,start_col+crimenum])))\n",
    "        r2.append(r2_score(test_target.iloc[:,start_col+crimenum], preds))\n",
    "\n",
    "    probplot(allpreds.iloc[:,start_col+crimenum] - allpreds.iloc[:,-1], dist='norm', plot=plt)\n",
    "    #import pdb; pdb.set_trace()\n",
    "    plt.show()\n",
    "   \n",
    "    rmse.append(np.sqrt(mean_squared_error(allpreds[\"preds\"], allpreds.iloc[:,start_col+crimenum])))\n",
    "    r2.append(r2_score(allpreds.iloc[:,start_col+crimenum], allpreds[\"preds\"]))\n",
    "    return output, rmse, r2, models, allpreds\n",
    "\n",
    "output = kfold_cv(5, 0, featuredf, nswdf_target)\n",
    "output[1:3]"
   ]
  },
  {
   "cell_type": "code",
   "execution_count": 46,
   "metadata": {},
   "outputs": [
    {
     "data": {
      "text/plain": [
       "Index(['0,night,on', '0,night,off', '0,morning,on', '0,morning,off',\n",
       "       '0,afternoon,on', '0,afternoon,off', '0,evening,on', '0,evening,off',\n",
       "       '1,night,on', '1,night,off', '1,morning,on', '1,morning,off',\n",
       "       '1,afternoon,on', '1,afternoon,off', '1,evening,on', '1,evening,off',\n",
       "       '2,night,on', '2,night,off', '2,morning,on', '2,morning,off',\n",
       "       '2,afternoon,on', '2,afternoon,off', '2,evening,on', '2,evening,off',\n",
       "       '3,night,on', '3,night,off', '3,morning,on', '3,morning,off',\n",
       "       '3,afternoon,on', '3,afternoon,off', '3,evening,on', '3,evening,off',\n",
       "       '4,night,on', '4,night,off', '4,morning,on', '4,morning,off',\n",
       "       '4,afternoon,on', '4,afternoon,off', '4,evening,on', '4,evening,off',\n",
       "       '5,night,on', '5,night,off', '5,morning,on', '5,morning,off',\n",
       "       '5,afternoon,on', '5,afternoon,off', '5,evening,on', '5,evening,off',\n",
       "       '6,night,on', '6,night,off', '6,morning,on', '6,morning,off',\n",
       "       '6,afternoon,on', '6,afternoon,off', '6,evening,on', '6,evening,off',\n",
       "       'preds'],\n",
       "      dtype='object')"
      ]
     },
     "execution_count": 46,
     "metadata": {},
     "output_type": "execute_result"
    }
   ],
   "source": [
    "allpreds = output[-1]\n",
    "allpreds.columns\n",
    "#allpreds[\"resid\"] = allpreds[\"preds\"] - allpreds.loc[:,\"Assault - domestic violence\"]"
   ]
  },
  {
   "cell_type": "code",
   "execution_count": null,
   "metadata": {},
   "outputs": [],
   "source": [
    "featuredf.iloc[0,np.argsort(output[3][-2].feature_importances_)]"
   ]
  }
 ],
 "metadata": {
  "kernelspec": {
   "display_name": "Python 3",
   "language": "python",
   "name": "python3"
  }
 },
 "nbformat": 4,
 "nbformat_minor": 1
}
