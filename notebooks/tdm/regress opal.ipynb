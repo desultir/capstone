{
 "cells": [
  {
   "cell_type": "code",
   "execution_count": 19,
   "metadata": {},
   "outputs": [
    {
     "data": {
      "text/plain": [
       "Index(['Year', 'Type', 'LGA', 'Assault - domestic violence',\n",
       "       'Assault - non-domestic violence', 'Sexual Offences', 'Robbery',\n",
       "       'Break and enter dwelling', 'Break and enter non-dwelling',\n",
       "       'Motor vehicle theft', 'Steal from motor vehicle',\n",
       "       'Steal from retail store', 'Steal from dwelling', 'Steal from person',\n",
       "       'Fraud', 'Malicious damage to property', 'Harassment threatening',\n",
       "       'Receiving stolen goods', 'Other theft', 'Arson',\n",
       "       'Possession use of cannabis', 'Prohibited weapons offences', 'Trespass',\n",
       "       'Offensive conduct', 'Offensive language', 'Liquor offences',\n",
       "       'Breach AVO', 'Breach bail conditions', 'Resist or hinder officer',\n",
       "       'Transport regulatory offences'],\n",
       "      dtype='object')"
      ]
     },
     "execution_count": 19,
     "metadata": {},
     "output_type": "execute_result"
    }
   ],
   "source": [
    "import pandas as pd\n",
    "import numpy as np\n",
    "base = \"../../data/\"\n",
    "target = pd.read_csv(base+\"processed/cleaned_target.csv\")\n",
    "target.columns"
   ]
  },
  {
   "cell_type": "code",
   "execution_count": 4,
   "metadata": {},
   "outputs": [
    {
     "data": {
      "text/plain": [
       "array(['Total', 'Rate per 100,000 population', 'Rank'], dtype=object)"
      ]
     },
     "execution_count": 4,
     "metadata": {},
     "output_type": "execute_result"
    }
   ],
   "source": [
    "target[\"Type\"].unique()"
   ]
  },
  {
   "cell_type": "code",
   "execution_count": 20,
   "metadata": {},
   "outputs": [],
   "source": [
    "nswdf_target = target[target[\"Type\"]=='Rate per 100,000 population'].dropna()"
   ]
  },
  {
   "cell_type": "code",
   "execution_count": 8,
   "metadata": {},
   "outputs": [
    {
     "name": "stderr",
     "output_type": "stream",
     "text": [
      "/Users/tdm/git/capstone/venv/lib/python3.6/site-packages/IPython/core/interactiveshell.py:2728: DtypeWarning: Columns (6) have mixed types. Specify dtype option on import or set low_memory=False.\n",
      "  interactivity=interactivity, compiler=compiler, result=result)\n"
     ]
    }
   ],
   "source": [
    "opal_df = pd.read_csv(base+\"processed/opal_lgas.csv\")\n",
    "opal_lgas = opal_df[\"lga\"].unique()"
   ]
  },
  {
   "cell_type": "code",
   "execution_count": 14,
   "metadata": {},
   "outputs": [
    {
     "data": {
      "text/plain": [
       "set()"
      ]
     },
     "execution_count": 14,
     "metadata": {},
     "output_type": "execute_result"
    }
   ],
   "source": [
    "set(opal_lgas).difference(set(nswdf_target[\"LGA\"].unique()))"
   ]
  },
  {
   "cell_type": "code",
   "execution_count": 21,
   "metadata": {},
   "outputs": [],
   "source": [
    "# log it\n",
    "start_col = nswdf_target.columns.get_loc('Assault - domestic violence')\n",
    "for i in range(27):\n",
    "    nswdf_target = nswdf_target.replace(0.0, 0.01)\n",
    "    nswdf_target.iloc[:,start_col+i] = np.log(nswdf_target.iloc[:,start_col+i])\n",
    "    \n",
    "#print(nswdf_target[\"pop_class\"])\n",
    "#nswdf_target[\"pop_class\"].hist()\n",
    "\n",
    "nswdf_target = nswdf_target[(nswdf_target[\"LGA\"].isin(opal_lgas)) & (nswdf_target[\"Year\"] == 2016)]"
   ]
  },
  {
   "cell_type": "code",
   "execution_count": 22,
   "metadata": {},
   "outputs": [
    {
     "data": {
      "text/plain": [
       "Index(['Year', 'Type', 'LGA', 'Assault - domestic violence',\n",
       "       'Assault - non-domestic violence', 'Sexual Offences', 'Robbery',\n",
       "       'Break and enter dwelling', 'Break and enter non-dwelling',\n",
       "       'Motor vehicle theft', 'Steal from motor vehicle',\n",
       "       'Steal from retail store', 'Steal from dwelling', 'Steal from person',\n",
       "       'Fraud', 'Malicious damage to property', 'Harassment threatening',\n",
       "       'Receiving stolen goods', 'Other theft', 'Arson',\n",
       "       'Possession use of cannabis', 'Prohibited weapons offences', 'Trespass',\n",
       "       'Offensive conduct', 'Offensive language', 'Liquor offences',\n",
       "       'Breach AVO', 'Breach bail conditions', 'Resist or hinder officer',\n",
       "       'Transport regulatory offences'],\n",
       "      dtype='object')"
      ]
     },
     "execution_count": 22,
     "metadata": {},
     "output_type": "execute_result"
    }
   ],
   "source": [
    "nswdf_target.columns"
   ]
  },
  {
   "cell_type": "code",
   "execution_count": 28,
   "metadata": {},
   "outputs": [
    {
     "ename": "ValueError",
     "evalue": "could not convert string to float: 'NSW'",
     "output_type": "error",
     "traceback": [
      "\u001b[0;31m---------------------------------------------------------------------------\u001b[0m",
      "\u001b[0;31mValueError\u001b[0m                                Traceback (most recent call last)",
      "\u001b[0;32m<ipython-input-28-b3945dd1e38c>\u001b[0m in \u001b[0;36m<module>\u001b[0;34m()\u001b[0m\n\u001b[1;32m     34\u001b[0m     \u001b[0;32mreturn\u001b[0m \u001b[0moutput\u001b[0m\u001b[0;34m,\u001b[0m \u001b[0mrmse\u001b[0m\u001b[0;34m\u001b[0m\u001b[0m\n\u001b[1;32m     35\u001b[0m \u001b[0;34m\u001b[0m\u001b[0m\n\u001b[0;32m---> 36\u001b[0;31m \u001b[0moutput\u001b[0m \u001b[0;34m=\u001b[0m \u001b[0mkfold_cv\u001b[0m\u001b[0;34m(\u001b[0m\u001b[0;36m5\u001b[0m\u001b[0;34m,\u001b[0m \u001b[0;36m0\u001b[0m\u001b[0;34m,\u001b[0m \u001b[0mopal_df\u001b[0m\u001b[0;34m,\u001b[0m \u001b[0mnswdf_target\u001b[0m\u001b[0;34m)\u001b[0m\u001b[0;34m\u001b[0m\u001b[0m\n\u001b[0m\u001b[1;32m     37\u001b[0m \u001b[0moutput\u001b[0m\u001b[0;34m[\u001b[0m\u001b[0;36m1\u001b[0m\u001b[0;34m]\u001b[0m\u001b[0;34m\u001b[0m\u001b[0m\n",
      "\u001b[0;32m<ipython-input-28-b3945dd1e38c>\u001b[0m in \u001b[0;36mkfold_cv\u001b[0;34m(k, crimenum, dataframe, target)\u001b[0m\n\u001b[1;32m     22\u001b[0m         \u001b[0;31m#import pdb; pdb.set_trace()\u001b[0m\u001b[0;34m\u001b[0m\u001b[0;34m\u001b[0m\u001b[0m\n\u001b[1;32m     23\u001b[0m         \u001b[0mmodel\u001b[0m \u001b[0;34m=\u001b[0m \u001b[0mRandomForestRegressor\u001b[0m\u001b[0;34m(\u001b[0m\u001b[0;34m)\u001b[0m\u001b[0;34m\u001b[0m\u001b[0m\n\u001b[0;32m---> 24\u001b[0;31m         \u001b[0mmodel\u001b[0m\u001b[0;34m.\u001b[0m\u001b[0mfit\u001b[0m\u001b[0;34m(\u001b[0m\u001b[0mtraindf\u001b[0m\u001b[0;34m,\u001b[0m \u001b[0mtrain_target\u001b[0m\u001b[0;34m.\u001b[0m\u001b[0miloc\u001b[0m\u001b[0;34m[\u001b[0m\u001b[0;34m:\u001b[0m\u001b[0;34m,\u001b[0m\u001b[0mstart_col\u001b[0m\u001b[0;34m+\u001b[0m\u001b[0mcrimenum\u001b[0m\u001b[0;34m]\u001b[0m\u001b[0;34m)\u001b[0m\u001b[0;34m\u001b[0m\u001b[0m\n\u001b[0m\u001b[1;32m     25\u001b[0m \u001b[0;34m\u001b[0m\u001b[0m\n\u001b[1;32m     26\u001b[0m         \u001b[0;31m#print(lga_loc)\u001b[0m\u001b[0;34m\u001b[0m\u001b[0;34m\u001b[0m\u001b[0m\n",
      "\u001b[0;32m~/git/capstone/venv/lib/python3.6/site-packages/sklearn/ensemble/forest.py\u001b[0m in \u001b[0;36mfit\u001b[0;34m(self, X, y, sample_weight)\u001b[0m\n\u001b[1;32m    245\u001b[0m         \"\"\"\n\u001b[1;32m    246\u001b[0m         \u001b[0;31m# Validate or convert input data\u001b[0m\u001b[0;34m\u001b[0m\u001b[0;34m\u001b[0m\u001b[0m\n\u001b[0;32m--> 247\u001b[0;31m         \u001b[0mX\u001b[0m \u001b[0;34m=\u001b[0m \u001b[0mcheck_array\u001b[0m\u001b[0;34m(\u001b[0m\u001b[0mX\u001b[0m\u001b[0;34m,\u001b[0m \u001b[0maccept_sparse\u001b[0m\u001b[0;34m=\u001b[0m\u001b[0;34m\"csc\"\u001b[0m\u001b[0;34m,\u001b[0m \u001b[0mdtype\u001b[0m\u001b[0;34m=\u001b[0m\u001b[0mDTYPE\u001b[0m\u001b[0;34m)\u001b[0m\u001b[0;34m\u001b[0m\u001b[0m\n\u001b[0m\u001b[1;32m    248\u001b[0m         \u001b[0my\u001b[0m \u001b[0;34m=\u001b[0m \u001b[0mcheck_array\u001b[0m\u001b[0;34m(\u001b[0m\u001b[0my\u001b[0m\u001b[0;34m,\u001b[0m \u001b[0maccept_sparse\u001b[0m\u001b[0;34m=\u001b[0m\u001b[0;34m'csc'\u001b[0m\u001b[0;34m,\u001b[0m \u001b[0mensure_2d\u001b[0m\u001b[0;34m=\u001b[0m\u001b[0;32mFalse\u001b[0m\u001b[0;34m,\u001b[0m \u001b[0mdtype\u001b[0m\u001b[0;34m=\u001b[0m\u001b[0;32mNone\u001b[0m\u001b[0;34m)\u001b[0m\u001b[0;34m\u001b[0m\u001b[0m\n\u001b[1;32m    249\u001b[0m         \u001b[0;32mif\u001b[0m \u001b[0msample_weight\u001b[0m \u001b[0;32mis\u001b[0m \u001b[0;32mnot\u001b[0m \u001b[0;32mNone\u001b[0m\u001b[0;34m:\u001b[0m\u001b[0;34m\u001b[0m\u001b[0m\n",
      "\u001b[0;32m~/git/capstone/venv/lib/python3.6/site-packages/sklearn/utils/validation.py\u001b[0m in \u001b[0;36mcheck_array\u001b[0;34m(array, accept_sparse, dtype, order, copy, force_all_finite, ensure_2d, allow_nd, ensure_min_samples, ensure_min_features, warn_on_dtype, estimator)\u001b[0m\n\u001b[1;32m    431\u001b[0m                                       force_all_finite)\n\u001b[1;32m    432\u001b[0m     \u001b[0;32melse\u001b[0m\u001b[0;34m:\u001b[0m\u001b[0;34m\u001b[0m\u001b[0m\n\u001b[0;32m--> 433\u001b[0;31m         \u001b[0marray\u001b[0m \u001b[0;34m=\u001b[0m \u001b[0mnp\u001b[0m\u001b[0;34m.\u001b[0m\u001b[0marray\u001b[0m\u001b[0;34m(\u001b[0m\u001b[0marray\u001b[0m\u001b[0;34m,\u001b[0m \u001b[0mdtype\u001b[0m\u001b[0;34m=\u001b[0m\u001b[0mdtype\u001b[0m\u001b[0;34m,\u001b[0m \u001b[0morder\u001b[0m\u001b[0;34m=\u001b[0m\u001b[0morder\u001b[0m\u001b[0;34m,\u001b[0m \u001b[0mcopy\u001b[0m\u001b[0;34m=\u001b[0m\u001b[0mcopy\u001b[0m\u001b[0;34m)\u001b[0m\u001b[0;34m\u001b[0m\u001b[0m\n\u001b[0m\u001b[1;32m    434\u001b[0m \u001b[0;34m\u001b[0m\u001b[0m\n\u001b[1;32m    435\u001b[0m         \u001b[0;32mif\u001b[0m \u001b[0mensure_2d\u001b[0m\u001b[0;34m:\u001b[0m\u001b[0;34m\u001b[0m\u001b[0m\n",
      "\u001b[0;31mValueError\u001b[0m: could not convert string to float: 'NSW'"
     ]
    }
   ],
   "source": [
    "from sklearn.model_selection import KFold\n",
    "from sklearn.metrics import mean_squared_error\n",
    "from sklearn.ensemble import RandomForestRegressor\n",
    "from scipy.stats import probplot\n",
    "\n",
    "from matplotlib import pyplot as plt\n",
    "\n",
    "def kfold_cv(k, crimenum, dataframe, target):\n",
    "    lga_names = target[\"LGA\"].unique()\n",
    "    start_col = target.columns.get_loc('Assault - domestic violence')\n",
    "    kf = KFold(n_splits=5, shuffle=True)\n",
    "    \n",
    "    output = pd.DataFrame(index=range(len(dataframe)))\n",
    "    for train_index, test_index in kf.split(lga_names):\n",
    "        train_lgas = lga_names[train_index]\n",
    "        traindf = dataframe.loc[dataframe[\"lga\"].isin(train_lgas)]\n",
    "        train_target = target.loc[target[\"LGA\"].isin(train_lgas)]\n",
    "        \n",
    "        test_lgas = lga_names[test_index]\n",
    "        testdf = dataframe.loc[dataframe[\"lga\"].isin(test_lgas)]\n",
    "        test_target = target.loc[target[\"LGA\"].isin(test_lgas)]\n",
    "        #import pdb; pdb.set_trace()\n",
    "        model = RandomForestRegressor()\n",
    "        model.fit(traindf, train_target.iloc[:,start_col+crimenum])\n",
    "        \n",
    "        #print(lga_loc)\n",
    "        preds = model.predict(testdf)\n",
    "\n",
    "        #is this a fair measure\n",
    "        rmse.append(np.sqrt(mean_squared_error(preds, test_target.iloc[:,start_col+crimenum])))\n",
    "        #probplot(testdf.iloc[:,start_col+crimenum] - mu, dist='norm', plot=plt)\n",
    "        plt.show()\n",
    "\n",
    "    return output, rmse\n",
    "\n",
    "output = kfold_cv(5, 0, opal_df, nswdf_target)\n",
    "output[1]                                     "
   ]
  },
  {
   "cell_type": "code",
   "execution_count": 33,
   "metadata": {},
   "outputs": [
    {
     "data": {
      "text/plain": [
       "lga                tap  night  morning  afternoon  evening\n",
       "Bathurst Regional  off  0      0        0          1             328\n",
       "                   on   0      1        0          0             133\n",
       "                        1      0        0          0             292\n",
       "Bayside            off  0      0        0          1          202567\n",
       "                                        1          0          271611\n",
       "                               1        0          0          192207\n",
       "                        1      0        0          0           11450\n",
       "                   on   0      0        0          1           75328\n",
       "                                        1          0          267055\n",
       "                               1        0          0          345234\n",
       "                        1      0        0          0           19599\n",
       "Blacktown          off  0      0        0          1          184567\n",
       "                                        1          0          380235\n",
       "                               1        0          0          216723\n",
       "                        1      0        0          0            9693\n",
       "                   on   0      0        0          1           53743\n",
       "                                        1          0          282686\n",
       "                               1        0          0          459482\n",
       "                        1      0        0          0           34661\n",
       "Blue Mountains     off  0      0        0          1           13818\n",
       "                                        1          0           40716\n",
       "                               1        0          0           26410\n",
       "                   on   0      0        0          1             889\n",
       "                                        1          0           41031\n",
       "                               1        0          0           38362\n",
       "                        1      0        0          0            2044\n",
       "Burwood            off  0      0        0          1           73537\n",
       "                                        1          0          126289\n",
       "                               1        0          0           91292\n",
       "                        1      0        0          0            2697\n",
       "                                                               ...  \n",
       "Willoughby         on   1      0        0          0            3948\n",
       "Wingecarribee      off  0      0        0          1             606\n",
       "                                        1          0             534\n",
       "                               1        0          0              43\n",
       "                   on   0      1        0          0             757\n",
       "                        1      0        0          0              25\n",
       "Wollondilly        off  0      0        0          1            6051\n",
       "                                        1          0           37682\n",
       "                               1        0          0           38489\n",
       "                        1      0        0          0            1764\n",
       "                   on   0      0        0          1            6469\n",
       "                                        1          0           45890\n",
       "                               1        0          0           39971\n",
       "                        1      0        0          0            1338\n",
       "Wollongong         off  0      0        0          1           21652\n",
       "                                        1          0           88369\n",
       "                               1        0          0           78704\n",
       "                        1      0        0          0             181\n",
       "                   on   0      0        0          1            2880\n",
       "                                        1          0           93854\n",
       "                               1        0          0           95612\n",
       "                        1      0        0          0            3902\n",
       "Woollahra          off  0      0        0          1           49255\n",
       "                                        1          0           96486\n",
       "                               1        0          0           65210\n",
       "                        1      0        0          0             906\n",
       "                   on   0      0        0          1           19641\n",
       "                                        1          0           87515\n",
       "                               1        0          0          102405\n",
       "                        1      0        0          0             831\n",
       "Name: count, Length: 339, dtype: int64"
      ]
     },
     "execution_count": 33,
     "metadata": {},
     "output_type": "execute_result"
    }
   ],
   "source": [
    "opal_df.groupby([\"lga\", \"tap\", \"night\", \"morning\", \"afternoon\", \"evening\"]).sum()[\"count\"]"
   ]
  }
 ],
 "metadata": {
  "kernelspec": {
   "display_name": "Python 3",
   "language": "python",
   "name": "python3"
  },
  "language_info": {
   "codemirror_mode": {
    "name": "ipython",
    "version": 3
   },
   "file_extension": ".py",
   "mimetype": "text/x-python",
   "name": "python",
   "nbconvert_exporter": "python",
   "pygments_lexer": "ipython3",
   "version": "3.6.3"
  }
 },
 "nbformat": 4,
 "nbformat_minor": 1
}
