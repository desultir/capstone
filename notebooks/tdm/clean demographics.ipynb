{
 "cells": [
  {
   "cell_type": "code",
   "execution_count": 27,
   "metadata": {},
   "outputs": [],
   "source": [
    "# load all 35 csv files; join on LGA\n",
    "import os, glob\n",
    "import pandas as pd\n",
    "import re\n",
    "import numpy as np\n",
    "path ='../../data/raw/2016_demographics/2016 Census GCP Local Government Areas for NSW/' # use your path\n",
    "allFiles = glob.glob(path + \"*.csv\")\n",
    "dfs = []\n",
    "for filename in allFiles:\n",
    "    dfs.append((pd.read_csv(filename,index_col='LGA_CODE_2016', header=0), re.search(\"2016Census_(.*)_NSW_LGA\", filename).group(1)))\n"
   ]
  },
  {
   "cell_type": "code",
   "execution_count": 28,
   "metadata": {},
   "outputs": [
    {
     "data": {
      "text/plain": [
       "'G32'"
      ]
     },
     "execution_count": 28,
     "metadata": {},
     "output_type": "execute_result"
    }
   ],
   "source": [
    "dfs[0][1]"
   ]
  },
  {
   "cell_type": "code",
   "execution_count": 29,
   "metadata": {},
   "outputs": [],
   "source": [
    "outputdf = dfs[0][0]\n",
    "filename = dfs[0][1]\n",
    "outputdf.columns = [x+\"_\"+filename for x in outputdf.columns]\n",
    "\n",
    "for df, filename in dfs[1:]:\n",
    "    df.columns = [x+\"_\"+filename for x in df.columns]\n",
    "    outputdf = outputdf.join(df)\n",
    "    \n",
    "#outputdf = outputdf.join(dfs[1:])"
   ]
  },
  {
   "cell_type": "code",
   "execution_count": 32,
   "metadata": {},
   "outputs": [],
   "source": [
    "#np.sum(list(map(lambda x: x.endswith(\"_r\"), list(outputdf.columns))))\n",
    "#467 overlappting columns\n",
    "outputdf.to_csv(\"2016_demographics.csv\")"
   ]
  },
  {
   "cell_type": "code",
   "execution_count": 33,
   "metadata": {},
   "outputs": [],
   "source": [
    "#"
   ]
  },
  {
   "cell_type": "code",
   "execution_count": null,
   "metadata": {
    "collapsed": true
   },
   "outputs": [],
   "source": []
  }
 ],
 "metadata": {
  "kernelspec": {
   "display_name": "Python 3",
   "language": "python",
   "name": "python3"
  },
  "language_info": {
   "codemirror_mode": {
    "name": "ipython",
    "version": 3
   },
   "file_extension": ".py",
   "mimetype": "text/x-python",
   "name": "python",
   "nbconvert_exporter": "python",
   "pygments_lexer": "ipython3",
   "version": "3.6.3"
  }
 },
 "nbformat": 4,
 "nbformat_minor": 2
}
